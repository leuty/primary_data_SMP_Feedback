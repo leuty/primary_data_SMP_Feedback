{
 "cells": [
  {
   "cell_type": "code",
   "execution_count": 1,
   "metadata": {},
   "outputs": [],
   "source": [
    "import xarray as xr\n",
    "import numpy as np\n",
    "\n",
    "import matplotlib.pyplot as plt\n",
    "import matplotlib.ticker as mtick\n",
    "\n",
    "from metpy.units import units"
   ]
  },
  {
   "cell_type": "code",
   "execution_count": 2,
   "metadata": {},
   "outputs": [],
   "source": [
    "maskfile = xr.open_mfdataset('/users/davidle/postproc_data/lm_c_PRUDENCE_MASKS_LAND.nc', parallel=True)\n",
    "mask = xr.where(maskfile.MASK_ANALYSIS,maskfile.FR_LAND,0).values.astype(bool)"
   ]
  },
  {
   "cell_type": "code",
   "execution_count": 3,
   "metadata": {},
   "outputs": [],
   "source": [
    "ds = xr.open_mfdataset('/scratch/snx3000/davidle/results_soil-moisture-pertubation/analysis/ctrl/analysis/lm_c/histfreq_TOT_PREC_????_jja.nc')\n",
    "bins = ds.bin_bnds.mean(axis=(0,2)).values[100:] #[100:] -> wet days only"
   ]
  },
  {
   "cell_type": "code",
   "execution_count": 4,
   "metadata": {},
   "outputs": [],
   "source": [
    "def bootstrap(model, exp, mask):\n",
    "    ds = xr.open_mfdataset('/scratch/snx3000/davidle/results_soil-moisture-pertubation/analysis/'+exp+'/analysis/'+model+'/histfreq_TOT_PREC_????_jja.nc').TOT_PREC.where(mask)\n",
    "    \n",
    "    niter=100\n",
    "    NrYears=10\n",
    "    phist = np.zeros((niter,300))\n",
    "\n",
    "    for i in range(niter):\n",
    "        ind = np.random.choice(np.arange(NrYears), NrYears, replace=True)\n",
    "        pr = ds.isel(time=ind, bin=slice(100, None)).mean(dim=['time', 'rlon', 'rlat'])\n",
    "        rcumsum = pr[::-1].cumsum()[::-1].values\n",
    "        phist[i,:]=rcumsum/rcumsum[0]\n",
    "    return phist"
   ]
  },
  {
   "cell_type": "code",
   "execution_count": null,
   "metadata": {},
   "outputs": [],
   "source": [
    "def plot(model, ctrl, wet, dry):\n",
    "    plt.figure(figsize=(12, 9))\n",
    "\n",
    "    ax = plt.subplot(111)\n",
    "\n",
    "    # Remove the plot frame lines. They are unnecessary chartjunk.  \n",
    "    ax.spines[\"top\"].set_visible(False)\n",
    "    ax.spines[\"bottom\"].set_visible(False)  \n",
    "    ax.spines[\"right\"].set_visible(False)\n",
    "    ax.spines[\"left\"].set_visible(False)\n",
    "\n",
    "    ax.set_xscale('log')\n",
    "    ax.set_yscale('log')\n",
    "\n",
    "    #Ticks\n",
    "    ax.set_xlim(0.1,6)\n",
    "    ax.set_ylim(0.005,1.1)\n",
    "\n",
    "    ax.set_xticks([0.1, 0.2, 0.5,1,2,5,10, 20])\n",
    "    ax.set_yticks([0.005, 0.01, 0.02, 0.05, 0.1, 0.2, 0.5,1])\n",
    "\n",
    "    ax.get_xaxis().set_major_formatter(mtick.ScalarFormatter())\n",
    "    ax.get_yaxis().set_major_formatter(mtick.ScalarFormatter())\n",
    "\n",
    "    # Remove the tick marks; they are unnecessary with the tick lines we just plotted.  \n",
    "    plt.tick_params(axis=\"both\", which=\"both\", bottom=True, top=False,\n",
    "                    labelbottom=True, left=False, right=False, labelleft=True)\n",
    "\n",
    "    plt.grid(True, color='C7', linestyle='--', linewidth=1, axis='y',zorder=0)\n",
    "\n",
    "    plt.plot(bins, np.median(wet, axis=0),lw=2.5,color='C0',label='WET',linestyle='-',zorder=1)\n",
    "    plt.fill_between(bins, np.mean(wet, axis=0) + np.std(wet, axis=0), np.mean(wet, axis=0) - np.std(wet, axis=0), alpha=0.2, color='C0', zorder=1)\n",
    "\n",
    "    #plt.plot(bins, np.median(dry, axis=0),lw=2.5,color='C3',label='DRY',linestyle='-',zorder=1)\n",
    "    #plt.fill_between(bins, np.mean(dry, axis=0) + np.std(dry, axis=0), np.mean(dry, axis=0) - np.std(dry, axis=0), alpha=0.2, color='C3', zorder=2)\n",
    "    \n",
    "    plt.plot(bins, np.mean(ctrl, axis=0),lw=2.5,color='black',label='CTRL',linestyle='-',zorder=1)\n",
    "    plt.fill_between(bins, np.mean(ctrl, axis=0) + np.std(ctrl, axis=0), np.mean(ctrl, axis=0) - np.std(ctrl, axis=0), alpha=0.2, color='black', zorder=)\n",
    "\n",
    "\n",
    "    plt.savefig(model+'_freq_dist.pdf', bbox_inches='tight')"
   ]
  },
  {
   "cell_type": "code",
   "execution_count": 6,
   "metadata": {},
   "outputs": [],
   "source": [
    "ctrl12 = bootstrap('lm_c', 'ctrl', mask)\n",
    "dry12 = bootstrap('lm_c', 'dry25', mask)\n",
    "wet12 = bootstrap('lm_c', 'wet25', mask)"
   ]
  },
  {
   "cell_type": "code",
   "execution_count": null,
   "metadata": {},
   "outputs": [],
   "source": [
    "plot('lm_c', ctrl12, wet12, dry12)"
   ]
  },
  {
   "cell_type": "code",
   "execution_count": 8,
   "metadata": {},
   "outputs": [],
   "source": [
    "maskfile = xr.open_mfdataset('/users/davidle/postproc_data/lm_f_PRUDENCE_MASKS_LAND.nc', parallel=True)\n",
    "mask = xr.where(maskfile.MASK_ANALYSIS,maskfile.FR_LAND,0).values.astype(bool)"
   ]
  },
  {
   "cell_type": "code",
   "execution_count": null,
   "metadata": {},
   "outputs": [],
   "source": [
    "ctrl2 = bootstrap('lm_f', 'ctrl',mask)\n",
    "dry2 = bootstrap('lm_f', 'dry25',mask)\n",
    "wet2 = bootstrap('lm_f', 'wet25',mask)"
   ]
  },
  {
   "cell_type": "code",
   "execution_count": null,
   "metadata": {},
   "outputs": [],
   "source": [
    "plot('lm_f', ctrl2, wet2, dry2)"
   ]
  },
  {
   "cell_type": "code",
   "execution_count": null,
   "metadata": {},
   "outputs": [],
   "source": []
  }
 ],
 "metadata": {
  "kernelspec": {
   "display_name": "Python 3",
   "language": "python",
   "name": "python3"
  },
  "language_info": {
   "codemirror_mode": {
    "name": "ipython",
    "version": 3
   },
   "file_extension": ".py",
   "mimetype": "text/x-python",
   "name": "python",
   "nbconvert_exporter": "python",
   "pygments_lexer": "ipython3",
   "version": "3.8.2"
  }
 },
 "nbformat": 4,
 "nbformat_minor": 4
}
